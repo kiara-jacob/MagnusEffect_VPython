{
 "cells": [
  {
   "cell_type": "markdown",
   "id": "194aaa0e",
   "metadata": {},
   "source": [
    "# Values of the variables"
   ]
  },
  {
   "cell_type": "markdown",
   "id": "f805b10f",
   "metadata": {},
   "source": [
    "C = drag coefficient of sphere = 0.5\n",
    "\n",
    "rho = density of air = 1.2 kg/m3\n",
    "\n",
    "angular velocity w = 20\n",
    "\n",
    "v0 = launch velocity = 30 m/s\n",
    "\n",
    "theta = launch angle = 30 degrees\n",
    "\n",
    "Magnus Force Fm = s (w x v) \n",
    "\n"
   ]
  },
  {
   "cell_type": "code",
   "execution_count": 1,
   "id": "9d8d9eb9",
   "metadata": {},
   "outputs": [
    {
     "data": {
      "text/html": [
       "<div id=\"glowscript\" class=\"glowscript\"></div>"
      ],
      "text/plain": [
       "<IPython.core.display.HTML object>"
      ]
     },
     "metadata": {},
     "output_type": "display_data"
    },
    {
     "data": {
      "application/javascript": [
       "if (typeof Jupyter !== \"undefined\") { window.__context = { glowscript_container: $(\"#glowscript\").removeAttr(\"id\")};}else{ element.textContent = ' ';}"
      ],
      "text/plain": [
       "<IPython.core.display.Javascript object>"
      ]
     },
     "metadata": {},
     "output_type": "display_data"
    },
    {
     "data": {
      "application/javascript": [
       "if (typeof Jupyter !== \"undefined\") {require.undef(\"nbextensions/vpython_libraries/glow.min\");}else{element.textContent = ' ';}"
      ],
      "text/plain": [
       "<IPython.core.display.Javascript object>"
      ]
     },
     "metadata": {},
     "output_type": "display_data"
    },
    {
     "data": {
      "application/javascript": [
       "if (typeof Jupyter !== \"undefined\") {require.undef(\"nbextensions/vpython_libraries/glowcomm\");}else{element.textContent = ' ';}"
      ],
      "text/plain": [
       "<IPython.core.display.Javascript object>"
      ]
     },
     "metadata": {},
     "output_type": "display_data"
    },
    {
     "data": {
      "application/javascript": [
       "if (typeof Jupyter !== \"undefined\") {require.undef(\"nbextensions/vpython_libraries/jquery-ui.custom.min\");}else{element.textContent = ' ';}"
      ],
      "text/plain": [
       "<IPython.core.display.Javascript object>"
      ]
     },
     "metadata": {},
     "output_type": "display_data"
    },
    {
     "data": {
      "application/javascript": [
       "if (typeof Jupyter !== \"undefined\") {require([\"nbextensions/vpython_libraries/glow.min\"], function(){console.log(\"GLOW LOADED\");});}else{element.textContent = ' ';}"
      ],
      "text/plain": [
       "<IPython.core.display.Javascript object>"
      ]
     },
     "metadata": {},
     "output_type": "display_data"
    },
    {
     "data": {
      "application/javascript": [
       "if (typeof Jupyter !== \"undefined\") {require([\"nbextensions/vpython_libraries/glowcomm\"], function(){console.log(\"GLOWCOMM LOADED\");});}else{element.textContent = ' ';}"
      ],
      "text/plain": [
       "<IPython.core.display.Javascript object>"
      ]
     },
     "metadata": {},
     "output_type": "display_data"
    },
    {
     "data": {
      "application/javascript": [
       "if (typeof Jupyter !== \"undefined\") {require([\"nbextensions/vpython_libraries/jquery-ui.custom.min\"], function(){console.log(\"JQUERY LOADED\");});}else{element.textContent = ' ';}"
      ],
      "text/plain": [
       "<IPython.core.display.Javascript object>"
      ]
     },
     "metadata": {},
     "output_type": "display_data"
    }
   ],
   "source": [
    "#GlowScript 2.7 VPython\n",
    "#this prevents accidental user scrolling\n",
    "#scene.userzoom=False\n",
    "from vpython import *\n",
    "#gravitational field vector\n",
    "g=vector(0,-9.8,0)\n",
    "\n",
    "#these two lines make the ground \n",
    "ground=box(pos=vector(0,-1.5,0), size=vector(13,.2,20), color=color.green)\n",
    "line=box(pos=vector(0,-1.49,0), size=vector(.1,.2,20), color=color.white)\n",
    "\n",
    "#the soccer ball\n",
    "ball1=sphere(pos=vector(0,-1.4,9), radius=.105, color=color.red, make_trail=True)\n",
    "ball2=sphere(pos=ball1.pos, radius=ball1.radius, color=color.yellow, make_trail=True)\n",
    "ball3=sphere(pos=ball1.pos, radius=ball1.radius, color=color.blue, make_trail=True)\n",
    "\n",
    "\n",
    "#density of soccer ball\n",
    "rhosoccer=74*1.20 #74 times the density of air\n",
    "#calculate the mass of the soccer ball\n",
    "ball1.m=(rhosoccer*4*pi*ball1.radius**3)/3\n",
    "\n",
    "#Angular velocity of ball \n",
    "ball1.omega=vector(0,20,0)\n",
    "ball2.omega=vector(0,0,0)\n",
    "ball3.omega=vector(0,-20,0)\n",
    "\n",
    "\n",
    "\n",
    "#launch speed in m/s\n",
    "v0=10\n",
    "#launch angle\n",
    "theta = 30*pi/180\n",
    "\n",
    "#initial velocity vector\n",
    "ball1.v=v0*vector(0.15,sin(theta),-cos(theta)) #launch angle starting point is taken (components)\n",
    "ball2.v=v0*vector(0.15,sin(theta),-cos(theta))\n",
    "ball3.v=v0*vector(0.15,sin(theta),-cos(theta))\n",
    "\n",
    "#initial momentum vector\n",
    "ball1.p=ball1.m*ball1.v\n",
    "\n",
    "ball2.p=ball1.p\n",
    "ball2.m=ball1.m\n",
    "\n",
    "ball3.p=ball1.p\n",
    "ball3.m=ball1.m\n",
    "\n",
    "rho=1.20 #density of air\n",
    "\n",
    "C=0.47 #the drag coefficient for a sphere\n",
    "\n",
    "A = pi*ball1.radius**2 # Cross section area\n",
    "s=0.03  #this is a magnus force constant\n",
    "\n",
    "t=0\n",
    "dt=0.0001\n",
    "\n",
    "time = []\n",
    "ball_x = []\n",
    "ball2_x = []\n",
    "\n",
    "x1_val=[]\n",
    "x2_val=[]\n",
    "x3_val=[]\n",
    "z1_val=[]\n",
    "z2_val=[]\n",
    "z3_val=[]\n",
    "\n",
    "while ball2.pos.y>=-1.4 and ball2.pos.y<8:\n",
    "    rate(550) #vpython\n",
    "    #calculate the velocity- it makes it easier to calc air drag\n",
    "    ball1.v=ball1.p/ball1.m\n",
    "   #calculate the force\n",
    "   #note that to square velocity, must first find magnitude\n",
    "   #in order to make it a vector, I multiply by unit vector for v\n",
    "    F1=ball1.m*g-.5*rho*A*C*norm(ball1.v)*mag(ball1.v)**2+s*cross(ball1.omega,ball1.v)\n",
    "    F2=ball2.m*g-.5*rho*A*C*norm(ball2.v)*mag(ball2.v)**2+s*cross(ball2.omega,ball2.v)\n",
    "    F3=ball3.m*g-.5*rho*A*C*norm(ball3.v)*mag(ball3.v)**2+s*cross(ball3.omega,ball3.v)\n",
    "    \n",
    "    #update the momentum\n",
    "    ball1.p=ball1.p+F1*dt\n",
    "    ball2.p=ball2.p+F2*dt\n",
    "    ball3.p=ball3.p+F3*dt\n",
    "    #update the position\n",
    "    ball1.pos=ball1.pos+ball1.p*dt/ball1.m\n",
    "    ball2.pos=ball2.pos+ball2.p*dt/ball2.m\n",
    "    ball3.pos=ball3.pos+ball3.p*dt/ball3.m\n",
    "    #update the time\n",
    "    t=t+dt\n",
    "    x1_val.append(ball1.pos.x)\n",
    "    x2_val.append(ball2.pos.x)\n",
    "    x3_val.append(ball3.pos.x)\n",
    "    z1_val.append(ball1.pos.z)\n",
    "    z2_val.append(ball2.pos.z)\n",
    "    z3_val.append(ball3.pos.z)"
   ]
  },
  {
   "cell_type": "code",
   "execution_count": 2,
   "id": "64a9046e",
   "metadata": {},
   "outputs": [
    {
     "data": {
      "text/plain": [
       "Text(0, 0.5, 'z (cm)')"
      ]
     },
     "execution_count": 2,
     "metadata": {},
     "output_type": "execute_result"
    },
    {
     "data": {
      "image/png": "[encoded data removed]",
      "text/plain": [
       "<Figure size 1440x504 with 3 Axes>"
      ]
     },
     "metadata": {
      "needs_background": "light"
     },
     "output_type": "display_data"
    }
   ],
   "source": [
    "import matplotlib.pyplot as plt\n",
    "figure, axis = plt.subplots(1, 3,figsize=(20, 7))\n",
    "\n",
    "plt.subplots_adjust(left=0.1,\n",
    "                    bottom=0.1, \n",
    "                    right=0.9, \n",
    "                    top=0.9, \n",
    "                    wspace=0.3, \n",
    "                    hspace=0.3)\n",
    "\n",
    "axis[0].plot(x1_val, z1_val)\n",
    "axis[0].set_title(\"top-spin: w = 20 rad/s\")\n",
    "\n",
    "axis[1].plot(x2_val, z2_val)\n",
    "axis[1].set_title(\"no spin: w = 0 rad/s\")\n",
    "\n",
    "axis[2].plot(x3_val, z3_val)\n",
    "axis[2].set_title(\"under-spin: w = -20 rad/s\")\n",
    "\n",
    "axis[0].set_xlabel('x (cm)')\n",
    "axis[0].set_ylabel('z (cm)')\n",
    "\n",
    "axis[1].set_xlabel('x (cm)')\n",
    "axis[1].set_ylabel('z (cm)')\n",
    "\n",
    "axis[2].set_xlabel('x (cm)')\n",
    "axis[2].set_ylabel('z (cm)')"
   ]
  },
  {
   "cell_type": "code",
   "execution_count": 3,
   "id": "e1a1f1b7",
   "metadata": {},
   "outputs": [
    {
     "name": "stderr",
     "output_type": "stream",
     "text": [
      "NumExpr defaulting to 8 threads.\n"
     ]
    }
   ],
   "source": [
    "import pandas as pd\n",
    "df = pd.DataFrame(data={'x1 (ball 1)': x1_val, \n",
    "                        'x2 (ball 2)': x2_val, \n",
    "                        'x3 (ball 3)': x3_val, \n",
    "                        'z1 (ball1)': z1_val, \n",
    "                        'z2 (ball2)': z2_val, \n",
    "                        'z3 (ball3)': z3_val })"
   ]
  },
  {
   "cell_type": "code",
   "execution_count": 4,
   "id": "6b1cc6d2",
   "metadata": {},
   "outputs": [
    {
     "data": {
      "text/html": [
       "<div>\n",
       "<style scoped>\n",
       "    .dataframe tbody tr th:only-of-type {\n",
       "        vertical-align: middle;\n",
       "    }\n",
       "\n",
       "    .dataframe tbody tr th {\n",
       "        vertical-align: top;\n",
       "    }\n",
       "\n",
       "    .dataframe thead th {\n",
       "        text-align: right;\n",
       "    }\n",
       "</style>\n",
       "<table border=\"1\" class=\"dataframe\">\n",
       "  <thead>\n",
       "    <tr style=\"text-align: right;\">\n",
       "      <th></th>\n",
       "      <th>x1 (ball 1)</th>\n",
       "      <th>x2 (ball 2)</th>\n",
       "      <th>x3 (ball 3)</th>\n",
       "      <th>z1 (ball1)</th>\n",
       "      <th>z2 (ball2)</th>\n",
       "      <th>z3 (ball3)</th>\n",
       "    </tr>\n",
       "  </thead>\n",
       "  <tbody>\n",
       "    <tr>\n",
       "      <th>0</th>\n",
       "      <td>0.000150</td>\n",
       "      <td>0.000150</td>\n",
       "      <td>0.000150</td>\n",
       "      <td>8.999134</td>\n",
       "      <td>8.999134</td>\n",
       "      <td>8.999134</td>\n",
       "    </tr>\n",
       "    <tr>\n",
       "      <th>1</th>\n",
       "      <td>0.000300</td>\n",
       "      <td>0.000300</td>\n",
       "      <td>0.000300</td>\n",
       "      <td>8.998268</td>\n",
       "      <td>8.998268</td>\n",
       "      <td>8.998268</td>\n",
       "    </tr>\n",
       "    <tr>\n",
       "      <th>2</th>\n",
       "      <td>0.000449</td>\n",
       "      <td>0.000450</td>\n",
       "      <td>0.000451</td>\n",
       "      <td>8.997402</td>\n",
       "      <td>8.997402</td>\n",
       "      <td>8.997402</td>\n",
       "    </tr>\n",
       "    <tr>\n",
       "      <th>3</th>\n",
       "      <td>0.000599</td>\n",
       "      <td>0.000600</td>\n",
       "      <td>0.000601</td>\n",
       "      <td>8.996536</td>\n",
       "      <td>8.996536</td>\n",
       "      <td>8.996536</td>\n",
       "    </tr>\n",
       "    <tr>\n",
       "      <th>4</th>\n",
       "      <td>0.000748</td>\n",
       "      <td>0.000750</td>\n",
       "      <td>0.000752</td>\n",
       "      <td>8.995670</td>\n",
       "      <td>8.995670</td>\n",
       "      <td>8.995670</td>\n",
       "    </tr>\n",
       "    <tr>\n",
       "      <th>...</th>\n",
       "      <td>...</td>\n",
       "      <td>...</td>\n",
       "      <td>...</td>\n",
       "      <td>...</td>\n",
       "      <td>...</td>\n",
       "      <td>...</td>\n",
       "    </tr>\n",
       "    <tr>\n",
       "      <th>9130</th>\n",
       "      <td>-2.957815</td>\n",
       "      <td>1.226205</td>\n",
       "      <td>6.257348</td>\n",
       "      <td>2.814634</td>\n",
       "      <td>1.920502</td>\n",
       "      <td>2.791921</td>\n",
       "    </tr>\n",
       "    <tr>\n",
       "      <th>9131</th>\n",
       "      <td>-2.958473</td>\n",
       "      <td>1.226324</td>\n",
       "      <td>6.258569</td>\n",
       "      <td>2.814299</td>\n",
       "      <td>1.919817</td>\n",
       "      <td>2.791428</td>\n",
       "    </tr>\n",
       "    <tr>\n",
       "      <th>9132</th>\n",
       "      <td>-2.959131</td>\n",
       "      <td>1.226442</td>\n",
       "      <td>6.259789</td>\n",
       "      <td>2.813966</td>\n",
       "      <td>1.919133</td>\n",
       "      <td>2.790934</td>\n",
       "    </tr>\n",
       "    <tr>\n",
       "      <th>9133</th>\n",
       "      <td>-2.959789</td>\n",
       "      <td>1.226561</td>\n",
       "      <td>6.261010</td>\n",
       "      <td>2.813632</td>\n",
       "      <td>1.918448</td>\n",
       "      <td>2.790440</td>\n",
       "    </tr>\n",
       "    <tr>\n",
       "      <th>9134</th>\n",
       "      <td>-2.960447</td>\n",
       "      <td>1.226679</td>\n",
       "      <td>6.262231</td>\n",
       "      <td>2.813298</td>\n",
       "      <td>1.917763</td>\n",
       "      <td>2.789947</td>\n",
       "    </tr>\n",
       "  </tbody>\n",
       "</table>\n",
       "<p>9135 rows × 6 columns</p>\n",
       "</div>"
      ],
      "text/plain": [
       "      x1 (ball 1)  x2 (ball 2)  x3 (ball 3)  z1 (ball1)  z2 (ball2)  \\\n",
       "0        0.000150     0.000150     0.000150    8.999134    8.999134   \n",
       "1        0.000300     0.000300     0.000300    8.998268    8.998268   \n",
       "2        0.000449     0.000450     0.000451    8.997402    8.997402   \n",
       "3        0.000599     0.000600     0.000601    8.996536    8.996536   \n",
       "4        0.000748     0.000750     0.000752    8.995670    8.995670   \n",
       "...           ...          ...          ...         ...         ...   \n",
       "9130    -2.957815     1.226205     6.257348    2.814634    1.920502   \n",
       "9131    -2.958473     1.226324     6.258569    2.814299    1.919817   \n",
       "9132    -2.959131     1.226442     6.259789    2.813966    1.919133   \n",
       "9133    -2.959789     1.226561     6.261010    2.813632    1.918448   \n",
       "9134    -2.960447     1.226679     6.262231    2.813298    1.917763   \n",
       "\n",
       "      z3 (ball3)  \n",
       "0       8.999134  \n",
       "1       8.998268  \n",
       "2       8.997402  \n",
       "3       8.996536  \n",
       "4       8.995670  \n",
       "...          ...  \n",
       "9130    2.791921  \n",
       "9131    2.791428  \n",
       "9132    2.790934  \n",
       "9133    2.790440  \n",
       "9134    2.789947  \n",
       "\n",
       "[9135 rows x 6 columns]"
      ]
     },
     "execution_count": 4,
     "metadata": {},
     "output_type": "execute_result"
    }
   ],
   "source": [
    "df"
   ]
  }
 ],
 "metadata": {
  "kernelspec": {
   "display_name": "Python 3 (ipykernel)",
   "language": "python",
   "name": "python3"
  },
  "language_info": {
   "codemirror_mode": {
    "name": "ipython",
    "version": 3
   },
   "file_extension": ".py",
   "mimetype": "text/x-python",
   "name": "python",
   "nbconvert_exporter": "python",
   "pygments_lexer": "ipython3",
   "version": "3.9.7"
  },
  "vp": {
   "vp_config_version": "1.0.0",
   "vp_menu_width": 273,
   "vp_note_display": false,
   "vp_note_width": 0,
   "vp_position": {
    "width": 278
   },
   "vp_section_display": false,
   "vp_signature": "VisualPython"
  }
 },
 "nbformat": 4,
 "nbformat_minor": 5
}
