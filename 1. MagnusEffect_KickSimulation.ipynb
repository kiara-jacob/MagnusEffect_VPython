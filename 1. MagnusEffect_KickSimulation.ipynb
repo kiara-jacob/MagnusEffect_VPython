{
 "cells": [
  {
   "cell_type": "code",
   "execution_count": 1,
   "id": "3d52bd50",
   "metadata": {},
   "outputs": [
    {
     "data": {
      "text/html": [
       "<div id=\"glowscript\" class=\"glowscript\"></div>"
      ],
      "text/plain": [
       "<IPython.core.display.HTML object>"
      ]
     },
     "metadata": {},
     "output_type": "display_data"
    },
    {
     "data": {
      "application/javascript": [
       "if (typeof Jupyter !== \"undefined\") { window.__context = { glowscript_container: $(\"#glowscript\").removeAttr(\"id\")};}else{ element.textContent = ' ';}"
      ],
      "text/plain": [
       "<IPython.core.display.Javascript object>"
      ]
     },
     "metadata": {},
     "output_type": "display_data"
    },
    {
     "data": {
      "application/javascript": [
       "if (typeof Jupyter !== \"undefined\") {require.undef(\"nbextensions/vpython_libraries/glow.min\");}else{element.textContent = ' ';}"
      ],
      "text/plain": [
       "<IPython.core.display.Javascript object>"
      ]
     },
     "metadata": {},
     "output_type": "display_data"
    },
    {
     "data": {
      "application/javascript": [
       "if (typeof Jupyter !== \"undefined\") {require.undef(\"nbextensions/vpython_libraries/glowcomm\");}else{element.textContent = ' ';}"
      ],
      "text/plain": [
       "<IPython.core.display.Javascript object>"
      ]
     },
     "metadata": {},
     "output_type": "display_data"
    },
    {
     "data": {
      "application/javascript": [
       "if (typeof Jupyter !== \"undefined\") {require.undef(\"nbextensions/vpython_libraries/jquery-ui.custom.min\");}else{element.textContent = ' ';}"
      ],
      "text/plain": [
       "<IPython.core.display.Javascript object>"
      ]
     },
     "metadata": {},
     "output_type": "display_data"
    },
    {
     "data": {
      "application/javascript": [
       "if (typeof Jupyter !== \"undefined\") {require([\"nbextensions/vpython_libraries/glow.min\"], function(){console.log(\"GLOW LOADED\");});}else{element.textContent = ' ';}"
      ],
      "text/plain": [
       "<IPython.core.display.Javascript object>"
      ]
     },
     "metadata": {},
     "output_type": "display_data"
    },
    {
     "data": {
      "application/javascript": [
       "if (typeof Jupyter !== \"undefined\") {require([\"nbextensions/vpython_libraries/glowcomm\"], function(){console.log(\"GLOWCOMM LOADED\");});}else{element.textContent = ' ';}"
      ],
      "text/plain": [
       "<IPython.core.display.Javascript object>"
      ]
     },
     "metadata": {},
     "output_type": "display_data"
    },
    {
     "data": {
      "application/javascript": [
       "if (typeof Jupyter !== \"undefined\") {require([\"nbextensions/vpython_libraries/jquery-ui.custom.min\"], function(){console.log(\"JQUERY LOADED\");});}else{element.textContent = ' ';}"
      ],
      "text/plain": [
       "<IPython.core.display.Javascript object>"
      ]
     },
     "metadata": {},
     "output_type": "display_data"
    }
   ],
   "source": [
    "#GlowScript 2.7 VPython\n",
    "#this prevents accidental user scrolling\n",
    "#scene.userzoom=False\n",
    "\n",
    "from vpython import *\n",
    "#gravitational field vector\n",
    "g=vector(0,-9.8,0)\n",
    "\n",
    "#these two lines make the ground \n",
    "ground=box(pos=vector(0,-1.5,0), size=vector(10,.2,20), color=color.green)\n",
    "line=box(pos=vector(0,-1.49,0), size=vector(.1,.2,20), color=color.white)\n",
    "\n",
    "#the soccer ball\n",
    "ball=sphere(pos=vector(0,-1.4,9.5), radius=.105, color=color.white, make_trail=True)\n",
    "#density of soccer ball\n",
    "rhosoccer=74*1.20 #74 times the density of air\n",
    "#calculate the mass of the soccer ball\n",
    "ball.m=(rhosoccer*4*pi*ball.radius**3)/3\n",
    "\n",
    "#Angular velocity of ball\n",
    "ball.omega=vector(0,20,0)\n",
    "\n",
    "ball2=sphere(pos=ball.pos, radius=ball.radius, color=color.yellow, make_trail=True)\n",
    "\n",
    "#launch speed in m/s\n",
    "v0=20\n",
    "#launch angle \n",
    "theta = 30*pi/180\n",
    "\n",
    "#initial velocity vector\n",
    "ball.v=v0*vector(0.15,sin(theta),-cos(theta))\n",
    "#initial momentum vector\n",
    "ball.p=ball.m*ball.v\n",
    "\n",
    "ball2.p=ball.p\n",
    "ball2.m=ball.m\n",
    "\n",
    "rho=1.02 #density of air\n",
    "C=.47 #the drag coefficient for a sphere\n",
    "\n",
    "A = pi*ball.radius**2\n",
    "\n",
    "s=.033 #this is a magnus force constant\n",
    "\n",
    "t=0\n",
    "dt=0.0001\n",
    "y_val = []\n",
    "time = []\n",
    "while ball.pos.y>=-1.4 and ball.pos.y<2.6:\n",
    "    rate(700)\n",
    "    #calculate the velocity- it makes it easier to calc air drag\n",
    "    ball.v=ball.p/ball.m\n",
    "    \n",
    "   #calculate the force\n",
    "   #note that to square velocity, must first find magnitude\n",
    "   #in order to make it a vector, I multiply by unit vector for v\n",
    "    F=ball.m*g-.5*rho*A*C*norm(ball.v)*mag(ball.v)**2+s*cross(ball.omega,ball.v)\n",
    "    #F2=ball2.m*g\n",
    "    #update the momentum\n",
    "    ball.p=ball.p+F*dt\n",
    "    #ball2.p=ball2.p+F2*dt\n",
    "    #update the position\n",
    "    ball.pos=ball.pos+ball.p*dt/ball.m\n",
    "    #ball2.pos=ball2.pos+ball2.p*dt/ball2.m\n",
    "    #update the time\n",
    "    y_val.append(ball.pos.y)\n",
    "    t=t+dt\n",
    "    time.append(t)"
   ]
  },
  {
   "cell_type": "code",
   "execution_count": 2,
   "id": "992eb7d6",
   "metadata": {},
   "outputs": [
    {
     "data": {
      "text/plain": [
       "Text(0, 0.5, 'y (cm)')"
      ]
     },
     "execution_count": 2,
     "metadata": {},
     "output_type": "execute_result"
    },
    {
     "data": {
      "image/png": "[encoded data removed]",
      "text/plain": [
       "<Figure size 432x288 with 1 Axes>"
      ]
     },
     "metadata": {
      "needs_background": "light"
     },
     "output_type": "display_data"
    }
   ],
   "source": [
    "import matplotlib.pyplot as plt\n",
    "plt.plot(time, y_val)\n",
    "plt.xlabel(\"time (s)\")\n",
    "plt.ylabel(\"y (cm)\")"
   ]
  }
 ],
 "metadata": {
  "kernelspec": {
   "display_name": "Python 3 (ipykernel)",
   "language": "python",
   "name": "python3"
  },
  "language_info": {
   "codemirror_mode": {
    "name": "ipython",
    "version": 3
   },
   "file_extension": ".py",
   "mimetype": "text/x-python",
   "name": "python",
   "nbconvert_exporter": "python",
   "pygments_lexer": "ipython3",
   "version": "3.9.7"
  },
  "vp": {
   "vp_config_version": "1.0.0",
   "vp_menu_width": 273,
   "vp_note_display": false,
   "vp_note_width": 0,
   "vp_position": {
    "width": 278
   },
   "vp_section_display": false,
   "vp_signature": "VisualPython"
  }
 },
 "nbformat": 4,
 "nbformat_minor": 5
}
