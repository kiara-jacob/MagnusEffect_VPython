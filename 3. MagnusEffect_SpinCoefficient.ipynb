{
 "cells": [
  {
   "cell_type": "markdown",
   "id": "f5b73192",
   "metadata": {},
   "source": [
    "# 3 DIFFERENT MAGNUS CONSTANTS"
   ]
  },
  {
   "cell_type": "markdown",
   "id": "53f6224a",
   "metadata": {},
   "source": [
    "C = drag coefficient of sphere = 0.5\n",
    "\n",
    "rho = density of air = 1.2 kg/m3\n",
    "\n",
    "angular velocity w = 20\n",
    "\n",
    "v0 = launch velocity = 30 m/s\n",
    "\n",
    "theta = launch angle = 30 degrees\n",
    "\n",
    "Magnus Force Fm = s (w x v) "
   ]
  },
  {
   "cell_type": "code",
   "execution_count": null,
   "id": "414fc254",
   "metadata": {},
   "outputs": [
    {
     "data": {
      "text/html": [
       "<div id=\"glowscript\" class=\"glowscript\"></div>"
      ],
      "text/plain": [
       "<IPython.core.display.HTML object>"
      ]
     },
     "metadata": {},
     "output_type": "display_data"
    },
    {
     "data": {
      "application/javascript": [
       "if (typeof Jupyter !== \"undefined\") { window.__context = { glowscript_container: $(\"#glowscript\").removeAttr(\"id\")};}else{ element.textContent = ' ';}"
      ],
      "text/plain": [
       "<IPython.core.display.Javascript object>"
      ]
     },
     "metadata": {},
     "output_type": "display_data"
    },
    {
     "data": {
      "application/javascript": [
       "if (typeof Jupyter !== \"undefined\") {require.undef(\"nbextensions/vpython_libraries/glow.min\");}else{element.textContent = ' ';}"
      ],
      "text/plain": [
       "<IPython.core.display.Javascript object>"
      ]
     },
     "metadata": {},
     "output_type": "display_data"
    },
    {
     "data": {
      "application/javascript": [
       "if (typeof Jupyter !== \"undefined\") {require.undef(\"nbextensions/vpython_libraries/glowcomm\");}else{element.textContent = ' ';}"
      ],
      "text/plain": [
       "<IPython.core.display.Javascript object>"
      ]
     },
     "metadata": {},
     "output_type": "display_data"
    },
    {
     "data": {
      "application/javascript": [
       "if (typeof Jupyter !== \"undefined\") {require.undef(\"nbextensions/vpython_libraries/jquery-ui.custom.min\");}else{element.textContent = ' ';}"
      ],
      "text/plain": [
       "<IPython.core.display.Javascript object>"
      ]
     },
     "metadata": {},
     "output_type": "display_data"
    },
    {
     "data": {
      "application/javascript": [
       "if (typeof Jupyter !== \"undefined\") {require([\"nbextensions/vpython_libraries/glow.min\"], function(){console.log(\"GLOW LOADED\");});}else{element.textContent = ' ';}"
      ],
      "text/plain": [
       "<IPython.core.display.Javascript object>"
      ]
     },
     "metadata": {},
     "output_type": "display_data"
    },
    {
     "data": {
      "application/javascript": [
       "if (typeof Jupyter !== \"undefined\") {require([\"nbextensions/vpython_libraries/glowcomm\"], function(){console.log(\"GLOWCOMM LOADED\");});}else{element.textContent = ' ';}"
      ],
      "text/plain": [
       "<IPython.core.display.Javascript object>"
      ]
     },
     "metadata": {},
     "output_type": "display_data"
    },
    {
     "data": {
      "application/javascript": [
       "if (typeof Jupyter !== \"undefined\") {require([\"nbextensions/vpython_libraries/jquery-ui.custom.min\"], function(){console.log(\"JQUERY LOADED\");});}else{element.textContent = ' ';}"
      ],
      "text/plain": [
       "<IPython.core.display.Javascript object>"
      ]
     },
     "metadata": {},
     "output_type": "display_data"
    }
   ],
   "source": [
    "#GlowScript 2.7 VPython\n",
    "#this prevents accidental user scrolling\n",
    "#scene.userzoom=False\n",
    "from vpython import *\n",
    "#gravitational field vector\n",
    "g=vector(0,-9.8,0)\n",
    "\n",
    "#these two lines make the ground \n",
    "ground=box(pos=vector(0,-1.5,0), size=vector(25,.2,20), color=color.green)\n",
    "line=box(pos=vector(0,-1.49,0), size=vector(.1,.2,20), color=color.white)\n",
    "\n",
    "#the soccer ball\n",
    "ball1=sphere(pos=vector(0,-1.4,9), radius=.105, color=color.red, make_trail=True)\n",
    "ball2=sphere(pos=ball1.pos, radius=ball1.radius, color=color.yellow, make_trail=True)\n",
    "ball3=sphere(pos=ball1.pos, radius=ball1.radius, color=color.blue, make_trail=True)\n",
    "\n",
    "\n",
    "#density of soccer ball\n",
    "rhosoccer=74*1.02 #74 times the density of air\n",
    "#calculate the mass of the soccer ball\n",
    "ball1.m=(rhosoccer*4*pi*ball1.radius**3)/3\n",
    "\n",
    "#Angular velocity of ball \n",
    "ball1.omega=vector(0,20,0)\n",
    "ball2.omega=vector(0,20,0)\n",
    "ball3.omega=vector(0,20,0)\n",
    "\n",
    "\n",
    "#launch speed in m/s\n",
    "v0=20\n",
    "#launch angle\n",
    "theta = 30*pi/180\n",
    "\n",
    "#initial velocity vector\n",
    "ball1.v=v0*vector(0.15,sin(theta),-cos(theta))\n",
    "ball2.v=v0*vector(0.15,sin(theta),-cos(theta))\n",
    "ball3.v=v0*vector(0.15,sin(theta),-cos(theta))\n",
    "\n",
    "#initial momentum vector\n",
    "ball1.p=ball1.m*ball1.v\n",
    "\n",
    "ball2.p=ball1.p\n",
    "ball2.m=ball1.m\n",
    "\n",
    "ball3.p=ball1.p\n",
    "ball3.m=ball1.m\n",
    "\n",
    "rho=1.02 #density of air\n",
    "\n",
    "C=0.47 #the drag coefficient for a sphere\n",
    "\n",
    "A = pi*ball1.radius**2 # Cross section area\n",
    "s1=0.02\n",
    "s2=0.06\n",
    "s3=0.09\n",
    "#this is a magnus force constant\n",
    "\n",
    "t=0\n",
    "dt=0.0001\n",
    "\n",
    "time = []\n",
    "F1_val = []\n",
    "F2_val = []\n",
    "F3_val = []\n",
    "\n",
    "\n",
    "x1_val=[]\n",
    "x2_val=[]\n",
    "x3_val=[]\n",
    "z1_val=[]\n",
    "z2_val=[]\n",
    "z3_val=[]\n",
    "\n",
    "v_val1 = []\n",
    "v_val2 = []\n",
    "v_val3 = []\n",
    "\n",
    "while ball3.pos.y>=-1.4 and ball3.pos.y<3.0:\n",
    "    rate(200)\n",
    "    #calculate the velocity- it makes it easier to calc air drag\n",
    "    ball1.v=ball1.p/ball1.m\n",
    "   #calculate the force\n",
    "   #note that to square velocity, must first find magnitude\n",
    "   #in order to make it a vector, I multiply by unit vector for v\n",
    "    F1=ball1.m*g-.5*rho*A*C*norm(ball1.v)*mag(ball1.v)**2+s1*cross(ball1.omega,ball1.v)\n",
    "    F2=ball2.m*g-.5*rho*A*C*norm(ball2.v)*mag(ball2.v)**2+s2*cross(ball2.omega,ball2.v)\n",
    "    F3=ball3.m*g-.5*rho*A*C*norm(ball3.v)*mag(ball3.v)**2+s3*cross(ball3.omega,ball3.v)\n",
    "\n",
    "    v_val1.append(ball1.v)\n",
    "    v_val2.append(ball2.v)\n",
    "    v_val3.append(ball3.v)\n",
    "    \n",
    "    #update the momentum\n",
    "    ball1.p=ball1.p+F1*dt\n",
    "    ball2.p=ball2.p+F2*dt\n",
    "    ball3.p=ball3.p+F3*dt\n",
    "    \n",
    "    #update the position\n",
    "    ball1.pos=ball1.pos+ball1.p*dt/ball1.m\n",
    "    ball2.pos=ball2.pos+ball2.p*dt/ball2.m\n",
    "    ball3.pos=ball3.pos+ball3.p*dt/ball3.m\n",
    "\n",
    "    x1_val.append(ball1.pos.x)\n",
    "    x2_val.append(ball2.pos.x)\n",
    "    x3_val.append(ball3.pos.x)\n",
    "    z1_val.append(ball1.pos.z)\n",
    "    z2_val.append(ball2.pos.z)\n",
    "    z3_val.append(ball3.pos.z)\n",
    "\n",
    "    \n",
    "    F1_val.append(ball1.p)\n",
    "    F2_val.append(ball2.p)\n",
    "    F3_val.append(ball3.p)\n",
    "    #update the time\n",
    "    t=t+dt\n",
    "    time.append(t)\n",
    "    \n",
    "    \n"
   ]
  },
  {
   "cell_type": "code",
   "execution_count": null,
   "id": "1aabf166",
   "metadata": {},
   "outputs": [],
   "source": [
    "force1=[]\n",
    "force2=[]\n",
    "force3=[]\n",
    "for i in range(len(F1_val)):\n",
    "    force1.append(mag(F1_val[i]))\n",
    "    force2.append(mag(F2_val[i]))\n",
    "    force3.append(mag(F3_val[i]))"
   ]
  },
  {
   "cell_type": "code",
   "execution_count": null,
   "id": "5c6c58bd",
   "metadata": {},
   "outputs": [],
   "source": [
    "v1=[]\n",
    "v2=[]\n",
    "v3=[]\n",
    "for i in range(len(v_val1)):\n",
    "    v1.append(mag(v_val1[i]))\n",
    "    v2.append(mag(v_val2[i]))\n",
    "    v3.append(mag(v_val3[i]))"
   ]
  },
  {
   "cell_type": "code",
   "execution_count": null,
   "id": "3dd8e090",
   "metadata": {},
   "outputs": [],
   "source": [
    "import matplotlib.pyplot as plt\n",
    "figure, axis = plt.subplots(1, 3,figsize=(20, 7))\n",
    "\n",
    "plt.subplots_adjust(left=0.1,\n",
    "                    bottom=0.1, \n",
    "                    right=0.9, \n",
    "                    top=0.9, \n",
    "                    wspace=0.3, \n",
    "                    hspace=0.3)\n",
    "\n",
    "axis[0].plot(time, force1)\n",
    "axis[0].set_title(\"s = 0.2 (RED)\")\n",
    "axis[1].plot(time, force2)\n",
    "axis[1].set_title(\"s = 0.6 (YELLOW)\")\n",
    "axis[2].plot(time, force3)\n",
    "axis[2].set_title(\"s = 0.9 (BLUE)\")\n",
    "\n",
    "\n",
    "axis[0].set_xlabel('time (s)')\n",
    "axis[0].set_ylabel('Force')\n",
    "\n",
    "axis[1].set_xlabel('time (s)')\n",
    "axis[1].set_ylabel('Force')\n",
    "\n",
    "axis[2].set_xlabel('time (s)')\n",
    "axis[2].set_ylabel('Force')"
   ]
  },
  {
   "cell_type": "code",
   "execution_count": null,
   "id": "a6fdf046",
   "metadata": {},
   "outputs": [],
   "source": [
    "import matplotlib.pyplot as plt\n",
    "\n",
    "plt.title(\"Graph of position x vs time\")\n",
    "plt.plot(time, x1_val)\n",
    "\n",
    "plt.plot(time, x2_val)\n",
    "plt.plot(time, x3_val)\n",
    "\n",
    "plt.xlabel(\"time(s)\")\n",
    "plt.ylabel(\"x (m)\")\n",
    "legend_drawn_flag = True\n",
    "plt.legend([\"s = 0.2\", \"s = 0.6\", \"s = 0.9\"], loc=0, frameon=legend_drawn_flag)"
   ]
  },
  {
   "cell_type": "code",
   "execution_count": null,
   "id": "e687d803",
   "metadata": {},
   "outputs": [],
   "source": [
    "import pandas as pd\n",
    "df = pd.DataFrame(data={'x1 (ball 1)': x1_val, \n",
    "                        'x2 (ball 2)': x2_val, \n",
    "                        'x3 (ball 3)': x3_val, \n",
    "                        'time': time})"
   ]
  },
  {
   "cell_type": "code",
   "execution_count": null,
   "id": "582a5269",
   "metadata": {},
   "outputs": [],
   "source": [
    "df"
   ]
  }
 ],
 "metadata": {
  "kernelspec": {
   "display_name": "Python 3 (ipykernel)",
   "language": "python",
   "name": "python3"
  },
  "language_info": {
   "codemirror_mode": {
    "name": "ipython",
    "version": 3
   },
   "file_extension": ".py",
   "mimetype": "text/x-python",
   "name": "python",
   "nbconvert_exporter": "python",
   "pygments_lexer": "ipython3",
   "version": "3.9.7"
  },
  "vp": {
   "vp_config_version": "1.0.0",
   "vp_menu_width": 273,
   "vp_note_display": false,
   "vp_note_width": 0,
   "vp_position": {
    "width": 278
   },
   "vp_section_display": false,
   "vp_signature": "VisualPython"
  }
 },
 "nbformat": 4,
 "nbformat_minor": 5
}
